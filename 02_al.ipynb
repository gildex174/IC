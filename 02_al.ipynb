{
 "cells": [
  {
   "cell_type": "markdown",
   "metadata": {},
   "source": [
    "# Um estudo sobre aprendizado ativo\n",
    "\n",
    "Nesse noteboook implementei minha própria classe de um algoritmo de aprendizado ativo.\n",
    "\n",
    "Esse algoritmo, *MyActLearning*, usa como base o LR e pensei em usar ele com 10% dos dados de treinamento.\n",
    "\n",
    "Usei o BC dataset para uma primeira comparação desse algorimo com o LR. Os resultados foram interessantes."
   ]
  },
  {
   "cell_type": "code",
   "execution_count": 2,
   "metadata": {},
   "outputs": [],
   "source": [
    "import numpy as np\n",
    "import pandas as pd\n",
    "import matplotlib.pyplot as plt\n",
    "import seaborn as sns\n",
    "\n",
    "from sklearn.impute import SimpleImputer\n",
    "from sklearn.datasets import fetch_openml, load_breast_cancer\n",
    "\n",
    "from sklearn.manifold  import TSNE\n",
    "from sklearn.preprocessing import StandardScaler\n",
    "from sklearn.decomposition import PCA\n",
    "from sklearn.manifold import MDS\n",
    "from sklearn.discriminant_analysis import LinearDiscriminantAnalysis\n",
    "\n",
    "\n",
    "from sklearn.model_selection import train_test_split,  KFold, cross_val_score, cross_val_predict\n",
    "from sklearn.preprocessing import LabelEncoder\n",
    "\n",
    "from sklearn.metrics import accuracy_score, f1_score,confusion_matrix\n",
    "\n",
    "#Logistic Regression:\n",
    "from sklearn.linear_model import LogisticRegression\n",
    "#Support Vector Machines (SVM):\n",
    "from sklearn.svm import SVC\n",
    "#Random Forest:\n",
    "from sklearn.ensemble import RandomForestClassifier\n",
    "#K-Nearest Neighbors (KNN):\n",
    "from sklearn.neighbors import KNeighborsClassifier\n",
    "\n",
    "#Decision Tree:\n",
    "from sklearn.tree import DecisionTreeClassifier\n",
    "#Gradient Boosting:\n",
    "from sklearn.ensemble import GradientBoostingClassifier\n",
    "#Gaussian Naive Bayes:\n",
    "from sklearn.naive_bayes import GaussianNB\n",
    "#AdaBoost:\n",
    "from sklearn.ensemble import AdaBoostClassifier\n",
    "#ICA\n",
    "from sklearn.decomposition import FastICA\n",
    "\n",
    "import math\n",
    "\n"
   ]
  },
  {
   "cell_type": "code",
   "execution_count": 3,
   "metadata": {},
   "outputs": [],
   "source": [
    "X = load_breast_cancer().data\n",
    "y = load_breast_cancer().target"
   ]
  },
  {
   "cell_type": "code",
   "execution_count": 4,
   "metadata": {},
   "outputs": [
    {
     "data": {
      "text/plain": [
       "(569, 30)"
      ]
     },
     "execution_count": 4,
     "metadata": {},
     "output_type": "execute_result"
    }
   ],
   "source": [
    "X.shape"
   ]
  },
  {
   "cell_type": "code",
   "execution_count": 5,
   "metadata": {},
   "outputs": [],
   "source": [
    "scaler = StandardScaler()\n",
    "Xs = scaler.fit_transform(X)"
   ]
  },
  {
   "cell_type": "code",
   "execution_count": 57,
   "metadata": {},
   "outputs": [],
   "source": [
    "class MyActLearning():\n",
    "\n",
    "    def __init__(self, n_iterations=5, k_samples=10):\n",
    "        self.n_iterations = n_iterations\n",
    "        self.k_samples = k_samples\n",
    "        self.classifier = LogisticRegression(random_state=42, max_iter=1000)\n",
    "    \n",
    "    def fit(self, X_pool, y_pool):\n",
    "        test_size_aux = X_pool.shape[0] - (0+1)*10\n",
    "        X_train, X_val, y_train, y_val = train_test_split(X_pool, y_pool, test_size=test_size_aux, random_state=42)\n",
    "\n",
    "        for i in range(self.n_iterations):\n",
    "            model = self.classifier.fit(X_train, y_train)\n",
    "            y_pred = self.classifier.predict(X_val)\n",
    "\n",
    "            acc = accuracy_score(y_pred, y_val)\n",
    "\n",
    "            #print(f'Interation {i}: acc = {round(acc,3)*100.}')\n",
    "\n",
    "            # Obter as probabilidades das classes para o conjunto de teste\n",
    "            probabilities = model.predict_proba(X_val)\n",
    "\n",
    "            # Calcular a diferença entre as probabilidades das classes\n",
    "            differences = np.abs(probabilities[:, 0] - probabilities[:, 1])\n",
    "\n",
    "            # Ordenar os exemplos pelo valor absoluto da diferença (do menor para o maior)\n",
    "            sorted_indices = np.argsort(differences)\n",
    "\n",
    "            # Exibir os 10 exemplos mais incertos\n",
    "            most_uncertain_indices = sorted_indices[:self.k_samples]\n",
    "\n",
    "            X_train = np.concatenate((X_train, X_val[most_uncertain_indices]))\n",
    "            y_train = np.concatenate((y_train, y_val[most_uncertain_indices]))\n",
    "\n",
    "            X_val = np.delete(X_val, most_uncertain_indices, axis=0)\n",
    "            y_val = np.delete(y_val, most_uncertain_indices)\n",
    "    \n",
    "    def get_params(self, deep=True):\n",
    "        # Retorna os parâmetros do estimador em um dicionário\n",
    "        return {\"n_iterations\": self.n_iterations, \"k_samples\": self.k_samples}\n",
    "    \n",
    "    def predict(self, X):\n",
    "        y_pred = self.classifier.predict(X)\n",
    "        return y_pred"
   ]
  },
  {
   "cell_type": "code",
   "execution_count": 13,
   "metadata": {},
   "outputs": [],
   "source": [
    "pca = PCA(n_components=2)\n",
    "pca.fit(Xs)\n",
    "Xs_pca = pca.transform(Xs)"
   ]
  },
  {
   "cell_type": "code",
   "execution_count": 58,
   "metadata": {},
   "outputs": [],
   "source": [
    "my_model = MyActLearning()\n"
   ]
  },
  {
   "cell_type": "code",
   "execution_count": 30,
   "metadata": {},
   "outputs": [
    {
     "name": "stdout",
     "output_type": "stream",
     "text": [
      "Interation 0: acc = 93.89999999999999\n",
      "Interation 1: acc = 96.8\n",
      "Interation 2: acc = 97.39999999999999\n",
      "Interation 3: acc = 98.8\n",
      "Interation 4: acc = 98.8\n"
     ]
    }
   ],
   "source": [
    "X_train, X_test, y_train, y_test,  = train_test_split(Xs, y, random_state=42, test_size=0.2)\n",
    "my_model = MyActLearning()\n",
    "my_model.fit(X_train, y_train)"
   ]
  },
  {
   "cell_type": "code",
   "execution_count": 31,
   "metadata": {},
   "outputs": [],
   "source": [
    "y_pred = my_model.predict(X_test)\n",
    "acc = round(accuracy_score(y_pred, y_test),3)*100"
   ]
  },
  {
   "cell_type": "code",
   "execution_count": 62,
   "metadata": {},
   "outputs": [],
   "source": [
    "lr = LogisticRegression(random_state=42, max_iter=1000)\n",
    "lr.fit(X_train, y_train)\n",
    "y_pred2 = lr.predict(X_test)\n",
    "acc2 = round(accuracy_score(y_pred2, y_test), 3)*100"
   ]
  },
  {
   "cell_type": "code",
   "execution_count": 61,
   "metadata": {},
   "outputs": [
    {
     "name": "stdout",
     "output_type": "stream",
     "text": [
      "Comparação dos dois valores calculados:\n",
      "LR: 97.39999999999999\n",
      "MyActLearning: 97.39999999999999\n"
     ]
    }
   ],
   "source": [
    "print('Comparação dos dois valores calculados:')\n",
    "print(f'LR: {acc2}\\nMyActLearning: {acc}')"
   ]
  },
  {
   "cell_type": "code",
   "execution_count": 63,
   "metadata": {},
   "outputs": [
    {
     "name": "stdout",
     "output_type": "stream",
     "text": [
      "Resultado da validção cruzada:\n",
      "LRegression:97.37\n",
      "Ativo: 95.78999999999999 \n"
     ]
    }
   ],
   "source": [
    "cv = KFold(n_splits=5, random_state=0, shuffle=True)\n",
    "#Executar a validação cruzada e obter as pontuações de validação cruzada\n",
    "scores2 = cross_val_score(lr, Xs, y, cv=cv, scoring=\"accuracy\")\n",
    "scores = cross_val_score(my_model, Xs, y, cv=cv, scoring=\"accuracy\")\n",
    "\n",
    "print(f'Resultado da validção cruzada:\\nLRegression:{round(scores2.mean(),4)*100}\\nAtivo: {round(scores.mean(),4)*100} ')\n"
   ]
  },
  {
   "cell_type": "code",
   "execution_count": 64,
   "metadata": {},
   "outputs": [],
   "source": [
    "scores2_pca = cross_val_score(lr, Xs_pca, y, cv=cv, scoring=\"accuracy\")\n",
    "scores_pca = cross_val_score(my_model, Xs_pca, y, cv=cv, scoring=\"accuracy\")\n",
    "\n"
   ]
  },
  {
   "cell_type": "code",
   "execution_count": 65,
   "metadata": {},
   "outputs": [
    {
     "name": "stdout",
     "output_type": "stream",
     "text": [
      "Após o PCA:\n",
      "LRegression:94.74000000000001\n",
      "Ativo: 93.15 \n"
     ]
    }
   ],
   "source": [
    "print(f'Após o PCA:\\nLRegression:{round(scores2_pca.mean(),4)*100}\\nAtivo: {round(scores_pca.mean(),4)*100} ')\n"
   ]
  }
 ],
 "metadata": {
  "kernelspec": {
   "display_name": "Python 3",
   "language": "python",
   "name": "python3"
  },
  "language_info": {
   "codemirror_mode": {
    "name": "ipython",
    "version": 3
   },
   "file_extension": ".py",
   "mimetype": "text/x-python",
   "name": "python",
   "nbconvert_exporter": "python",
   "pygments_lexer": "ipython3",
   "version": "3.11.3"
  },
  "orig_nbformat": 4
 },
 "nbformat": 4,
 "nbformat_minor": 2
}
